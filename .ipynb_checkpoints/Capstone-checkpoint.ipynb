{
 "cells": [
  {
   "cell_type": "markdown",
   "id": "52a4fc2b-d015-4afb-a9ea-0ecda51ad186",
   "metadata": {},
   "source": [
    "## Upload Data"
   ]
  },
  {
   "cell_type": "code",
   "execution_count": 239,
   "id": "d5855743-1dfa-421e-8c8d-c89587ce79aa",
   "metadata": {
    "tags": []
   },
   "outputs": [
    {
     "name": "stdout",
     "output_type": "stream",
     "text": [
      "Index(['Team_Name_Year', 'Domestic_Short', 'Domestic_Long',\n",
      "       'International_1_Short', 'International_1_Long',\n",
      "       'International_2_Short', 'International_2_Long', 'Nationals_Short',\n",
      "       'Nationals_Long', 'Words_Short', 'Worlds_Long'],\n",
      "      dtype='object')\n"
     ]
    }
   ],
   "source": [
    "import pandas as pd\n",
    "import numpy as np\n",
    "\n",
    "scores = pd.read_csv(\"capstone_data.csv\")\n",
    "print(scores.columns)"
   ]
  },
  {
   "cell_type": "markdown",
   "id": "cba23346-293e-4e40-b69a-6a7ea8e31a72",
   "metadata": {},
   "source": [
    "## Handle Missing Data"
   ]
  },
  {
   "cell_type": "code",
   "execution_count": 240,
   "id": "1e4d36f6-5758-4d3d-ad0b-98d30db39594",
   "metadata": {
    "tags": []
   },
   "outputs": [
    {
     "name": "stdout",
     "output_type": "stream",
     "text": [
      "          Team_Name_Year  Domestic_Short  Domestic_Long  \\\n",
      "4   Les_Supremes_2017/18             NaN            NaN   \n",
      "11          Nova_2018/19           57.07         124.99   \n",
      "24     Skyliners_2024/25           60.48         114.28   \n",
      "25   Haydenettes_2024/25           62.81         124.08   \n",
      "26     Rockettes_2024/25           76.64         146.95   \n",
      "27   Team_Unique_2024/25           77.68         149.49   \n",
      "28  Les_Supremes_2024/25           71.80         139.94   \n",
      "29          Nova_2024/25           71.72         135.48   \n",
      "\n",
      "    International_1_Short  International_1_Long  International_2_Short  \\\n",
      "4                   64.33                115.20                  66.70   \n",
      "11                  77.94                137.92                    NaN   \n",
      "24                  63.22                124.59                  59.79   \n",
      "25                  74.11                141.20                  76.78   \n",
      "26                  76.97                148.18                  78.63   \n",
      "27                  65.88                138.66                  73.44   \n",
      "28                  77.56                147.64                  77.49   \n",
      "29                  75.82                142.98                  71.96   \n",
      "\n",
      "    International_2_Long  Nationals_Short  Nationals_Long  Words_Short  \\\n",
      "4                 118.42            70.04          130.16        70.64   \n",
      "11                   NaN            82.71          148.64        82.00   \n",
      "24                122.79            68.48          141.03          NaN   \n",
      "25                141.99            78.77          150.94          NaN   \n",
      "26                137.80            78.64          142.11          NaN   \n",
      "27                151.09            77.93          143.24          NaN   \n",
      "28                140.87            79.53          144.20          NaN   \n",
      "29                132.94            75.13          144.90          NaN   \n",
      "\n",
      "    Worlds_Long  \n",
      "4        122.24  \n",
      "11       127.01  \n",
      "24          NaN  \n",
      "25          NaN  \n",
      "26          NaN  \n",
      "27          NaN  \n",
      "28          NaN  \n",
      "29          NaN  \n"
     ]
    }
   ],
   "source": [
    "missing_data_rows = scores[scores.isnull().any(axis=1)]\n",
    "print(missing_data_rows)"
   ]
  },
  {
   "cell_type": "code",
   "execution_count": 241,
   "id": "3dc57e36-9481-4547-8afa-6b30890a0877",
   "metadata": {
    "tags": []
   },
   "outputs": [],
   "source": [
    "short_columns = ['Domestic_Short', 'International_1_Short', 'International_2_Short', 'Nationals_Short']\n",
    "long_columns  = ['Domestic_Long', 'International_1_Long', 'International_2_Long', 'Nationals_Long']"
   ]
  },
  {
   "cell_type": "code",
   "execution_count": 242,
   "id": "88f4373b-c977-4266-93de-333da5cc67f5",
   "metadata": {
    "tags": []
   },
   "outputs": [],
   "source": [
    "row = scores.loc[4]\n",
    "short_average = row[short_columns].dropna().mean()\n",
    "long_average = row[long_columns].dropna().mean()"
   ]
  },
  {
   "cell_type": "code",
   "execution_count": 243,
   "id": "e0fafba9-f7a1-4a15-8513-669ab645c66c",
   "metadata": {
    "tags": []
   },
   "outputs": [],
   "source": [
    "if pd.isna(row['Domestic_Short']):\n",
    "    scores.loc[4, 'Domestic_Short'] = short_average\n",
    "\n",
    "if pd.isna(row['Domestic_Long']):\n",
    "    scores.loc[4, 'Domestic_Long'] = long_average"
   ]
  },
  {
   "cell_type": "code",
   "execution_count": 244,
   "id": "3e63b97b-6d5c-4ed6-9e96-a74abdbb2f5f",
   "metadata": {
    "tags": []
   },
   "outputs": [],
   "source": [
    "row = scores.loc[11]\n",
    "short_average = row[short_columns].dropna().mean()\n",
    "long_average = row[long_columns].dropna().mean()"
   ]
  },
  {
   "cell_type": "code",
   "execution_count": 245,
   "id": "a2e5188e-eb69-4553-8488-5f81cdb052c8",
   "metadata": {
    "tags": []
   },
   "outputs": [],
   "source": [
    "if pd.isna(row['International_2_Short']):\n",
    "    scores.loc[11, 'International_2_Short'] = short_average\n",
    "\n",
    "if pd.isna(row['International_2_Long']):\n",
    "    scores.loc[11, 'International_2_Long'] = long_average"
   ]
  },
  {
   "cell_type": "code",
   "execution_count": 246,
   "id": "04891d70-e147-4124-a4e6-94d6a23ba665",
   "metadata": {
    "tags": []
   },
   "outputs": [
    {
     "name": "stdout",
     "output_type": "stream",
     "text": [
      "          Team_Name_Year  Domestic_Short  Domestic_Long  \\\n",
      "24     Skyliners_2024/25           60.48         114.28   \n",
      "25   Haydenettes_2024/25           62.81         124.08   \n",
      "26     Rockettes_2024/25           76.64         146.95   \n",
      "27   Team_Unique_2024/25           77.68         149.49   \n",
      "28  Les_Supremes_2024/25           71.80         139.94   \n",
      "29          Nova_2024/25           71.72         135.48   \n",
      "\n",
      "    International_1_Short  International_1_Long  International_2_Short  \\\n",
      "24                  63.22                124.59                  59.79   \n",
      "25                  74.11                141.20                  76.78   \n",
      "26                  76.97                148.18                  78.63   \n",
      "27                  65.88                138.66                  73.44   \n",
      "28                  77.56                147.64                  77.49   \n",
      "29                  75.82                142.98                  71.96   \n",
      "\n",
      "    International_2_Long  Nationals_Short  Nationals_Long  Words_Short  \\\n",
      "24                122.79            68.48          141.03          NaN   \n",
      "25                141.99            78.77          150.94          NaN   \n",
      "26                137.80            78.64          142.11          NaN   \n",
      "27                151.09            77.93          143.24          NaN   \n",
      "28                140.87            79.53          144.20          NaN   \n",
      "29                132.94            75.13          144.90          NaN   \n",
      "\n",
      "    Worlds_Long  \n",
      "24          NaN  \n",
      "25          NaN  \n",
      "26          NaN  \n",
      "27          NaN  \n",
      "28          NaN  \n",
      "29          NaN  \n"
     ]
    }
   ],
   "source": [
    "missing_data_rows = scores[scores.isnull().any(axis=1)]\n",
    "print(missing_data_rows)"
   ]
  },
  {
   "cell_type": "markdown",
   "id": "08affca2-436c-4520-a1bc-acd47bab8c4a",
   "metadata": {},
   "source": [
    "## Seperate Data (training/testing sets, X and y)"
   ]
  },
  {
   "cell_type": "code",
   "execution_count": 247,
   "id": "73154901-b21f-459d-a3e3-3cfa0175a6d4",
   "metadata": {
    "tags": []
   },
   "outputs": [],
   "source": [
    "from sklearn.linear_model import LinearRegression"
   ]
  },
  {
   "cell_type": "code",
   "execution_count": 248,
   "id": "00016967-9b2b-422d-a967-31e1ebffb994",
   "metadata": {
    "tags": []
   },
   "outputs": [
    {
     "name": "stdout",
     "output_type": "stream",
     "text": [
      "0              Skyliners_2017/18\n",
      "1            Haydenettes_2017/18\n",
      "2     Marigold_Ice_Unity_2017/18\n",
      "3            Team_Unique_2017/18\n",
      "4           Les_Supremes_2017/18\n",
      "5                Nexxice_2017/18\n",
      "6              Skyliners_2018/19\n",
      "7            Haydenettes_2018/19\n",
      "8     Marigold_Ice_Unity_2018/19\n",
      "9              Rockettes_2018/19\n",
      "10               Nexxice_2018/19\n",
      "11                  Nova_2018/19\n",
      "12                 Miami_2022/23\n",
      "13           Haydenettes_2022/23\n",
      "14             Rockettes_2022/23\n",
      "15           Team_Unique_2022/23\n",
      "16          Les_Supremes_2022/23\n",
      "17               Nexxice_2022/23\n",
      "18             Skyliners_2023/24\n",
      "19           Haydenettes_2023/24\n",
      "20             Rockettes_2023/24\n",
      "21           Team_Unique_2023/24\n",
      "22          Les_Supremes_2023/24\n",
      "23                  Nova_2023/24\n",
      "24             Skyliners_2024/25\n",
      "25           Haydenettes_2024/25\n",
      "26             Rockettes_2024/25\n",
      "27           Team_Unique_2024/25\n",
      "28          Les_Supremes_2024/25\n",
      "29                  Nova_2024/25\n",
      "Name: Team_Name_Year, dtype: object\n"
     ]
    }
   ],
   "source": [
    "print(scores[\"Team_Name_Year\"])"
   ]
  },
  {
   "cell_type": "code",
   "execution_count": 249,
   "id": "c941c5e6-506a-4cf7-a771-d6cdf00f3829",
   "metadata": {
    "tags": []
   },
   "outputs": [],
   "source": [
    "training_teams = [\n",
    "    'Skyliners_2017/18', 'Haydenettes_2017/18', 'Marigold_Ice_Unity_2017/18', \n",
    "    'Team_Unique_2017/18', 'Les_Supremes_2017/18', 'Nexxice_2017/18', \n",
    "    'Skyliners_2018/19', 'Haydenettes_2018/19', 'Marigold_Ice_Unity_2018/19', \n",
    "    'Rockettes_2018/19', 'Nexxice_2018/19', 'Nova_2018/19', 'Miami_2022/23', \n",
    "    'Haydenettes_2022/23', 'Rockettes_2022/23', 'Team_Unique_2022/23', \n",
    "    'Les_Supremes_2022/23', 'Nexxice_2022/23', 'Skyliners_2023/24', \n",
    "    'Haydenettes_2023/24', 'Rockettes_2023/24', 'Team_Unique_2023/24', \n",
    "    'Les_Supremes_2023/24', 'Nova_2023/24'\n",
    "]\n",
    "testing_teams = [\n",
    "    'Skyliners_2024/25', 'Haydenettes_2024/25', 'Rockettes_2024/25', \n",
    "    'Team_Unique_2024/25', 'Les_Supremes_2024/25', 'Nova_2024/25'\n",
    "]\n",
    "\n",
    "training = scores[~scores['Team_Name_Year'].isin(training_teams)]\n",
    "testing = scores[scores['Team_Name_Year'].isin(testing_teams)]"
   ]
  },
  {
   "cell_type": "code",
   "execution_count": 250,
   "id": "0b119b2e-d0c1-4ede-81fb-4e1b6d5eb66a",
   "metadata": {
    "tags": []
   },
   "outputs": [
    {
     "name": "stdout",
     "output_type": "stream",
     "text": [
      "Index(['Team_Name_Year', 'Domestic_Short', 'Domestic_Long',\n",
      "       'International_1_Short', 'International_1_Long',\n",
      "       'International_2_Short', 'International_2_Long', 'Nationals_Short',\n",
      "       'Nationals_Long', 'Words_Short', 'Worlds_Long'],\n",
      "      dtype='object')\n"
     ]
    }
   ],
   "source": [
    "print(scores.columns)"
   ]
  },
  {
   "cell_type": "code",
   "execution_count": 251,
   "id": "d978542b-c5cc-49a2-bfe7-754eeb6854aa",
   "metadata": {
    "tags": []
   },
   "outputs": [],
   "source": [
    "training_data = scores[scores['Team_Name_Year'].isin(training_teams)]"
   ]
  },
  {
   "cell_type": "code",
   "execution_count": 252,
   "id": "ece75953-b6d4-4dd0-aa13-6d88ffc05ba5",
   "metadata": {
    "tags": []
   },
   "outputs": [],
   "source": [
    "X_training = training_data[['Domestic_Short', 'Domestic_Long',\n",
    "       'International_1_Short', 'International_1_Long',\n",
    "       'International_2_Short', 'International_2_Long', 'Nationals_Short',\n",
    "       'Nationals_Long']]\n",
    "y_training = training_data[['Words_Short', 'Worlds_Long']]"
   ]
  },
  {
   "cell_type": "markdown",
   "id": "631f6801-4277-4970-8113-edb02c9d8645",
   "metadata": {},
   "source": [
    "## Initialize regression model, fit it to training sets, print coefficient matrix"
   ]
  },
  {
   "cell_type": "code",
   "execution_count": 253,
   "id": "784f4b14-29de-4617-ae6b-36881ecc5a0c",
   "metadata": {
    "tags": []
   },
   "outputs": [],
   "source": [
    "from sklearn.linear_model import LinearRegression"
   ]
  },
  {
   "cell_type": "code",
   "execution_count": 254,
   "id": "abea4e7a-cacd-437b-8fb8-f30dbea23602",
   "metadata": {
    "tags": []
   },
   "outputs": [],
   "source": [
    "from sklearn.preprocessing import StandardScaler"
   ]
  },
  {
   "cell_type": "code",
   "execution_count": 255,
   "id": "ae0364e4-acf9-4c6f-a53e-5d09d5164cbf",
   "metadata": {
    "tags": []
   },
   "outputs": [],
   "source": [
    "scaler = StandardScaler()\n",
    "X_scaled = scaler.fit_transform(X_training)"
   ]
  },
  {
   "cell_type": "code",
   "execution_count": 274,
   "id": "c2fdcc16-6a6f-4a82-919a-e5317a642a3c",
   "metadata": {
    "tags": []
   },
   "outputs": [],
   "source": [
    "scores_predictive_model = LinearRegression()"
   ]
  },
  {
   "cell_type": "code",
   "execution_count": 275,
   "id": "ec6b2873-fa8b-47b4-bca2-0fc959d6a7e2",
   "metadata": {
    "tags": []
   },
   "outputs": [
    {
     "data": {
      "text/html": [
       "<style>#sk-container-id-10 {color: black;}#sk-container-id-10 pre{padding: 0;}#sk-container-id-10 div.sk-toggleable {background-color: white;}#sk-container-id-10 label.sk-toggleable__label {cursor: pointer;display: block;width: 100%;margin-bottom: 0;padding: 0.3em;box-sizing: border-box;text-align: center;}#sk-container-id-10 label.sk-toggleable__label-arrow:before {content: \"▸\";float: left;margin-right: 0.25em;color: #696969;}#sk-container-id-10 label.sk-toggleable__label-arrow:hover:before {color: black;}#sk-container-id-10 div.sk-estimator:hover label.sk-toggleable__label-arrow:before {color: black;}#sk-container-id-10 div.sk-toggleable__content {max-height: 0;max-width: 0;overflow: hidden;text-align: left;background-color: #f0f8ff;}#sk-container-id-10 div.sk-toggleable__content pre {margin: 0.2em;color: black;border-radius: 0.25em;background-color: #f0f8ff;}#sk-container-id-10 input.sk-toggleable__control:checked~div.sk-toggleable__content {max-height: 200px;max-width: 100%;overflow: auto;}#sk-container-id-10 input.sk-toggleable__control:checked~label.sk-toggleable__label-arrow:before {content: \"▾\";}#sk-container-id-10 div.sk-estimator input.sk-toggleable__control:checked~label.sk-toggleable__label {background-color: #d4ebff;}#sk-container-id-10 div.sk-label input.sk-toggleable__control:checked~label.sk-toggleable__label {background-color: #d4ebff;}#sk-container-id-10 input.sk-hidden--visually {border: 0;clip: rect(1px 1px 1px 1px);clip: rect(1px, 1px, 1px, 1px);height: 1px;margin: -1px;overflow: hidden;padding: 0;position: absolute;width: 1px;}#sk-container-id-10 div.sk-estimator {font-family: monospace;background-color: #f0f8ff;border: 1px dotted black;border-radius: 0.25em;box-sizing: border-box;margin-bottom: 0.5em;}#sk-container-id-10 div.sk-estimator:hover {background-color: #d4ebff;}#sk-container-id-10 div.sk-parallel-item::after {content: \"\";width: 100%;border-bottom: 1px solid gray;flex-grow: 1;}#sk-container-id-10 div.sk-label:hover label.sk-toggleable__label {background-color: #d4ebff;}#sk-container-id-10 div.sk-serial::before {content: \"\";position: absolute;border-left: 1px solid gray;box-sizing: border-box;top: 0;bottom: 0;left: 50%;z-index: 0;}#sk-container-id-10 div.sk-serial {display: flex;flex-direction: column;align-items: center;background-color: white;padding-right: 0.2em;padding-left: 0.2em;position: relative;}#sk-container-id-10 div.sk-item {position: relative;z-index: 1;}#sk-container-id-10 div.sk-parallel {display: flex;align-items: stretch;justify-content: center;background-color: white;position: relative;}#sk-container-id-10 div.sk-item::before, #sk-container-id-10 div.sk-parallel-item::before {content: \"\";position: absolute;border-left: 1px solid gray;box-sizing: border-box;top: 0;bottom: 0;left: 50%;z-index: -1;}#sk-container-id-10 div.sk-parallel-item {display: flex;flex-direction: column;z-index: 1;position: relative;background-color: white;}#sk-container-id-10 div.sk-parallel-item:first-child::after {align-self: flex-end;width: 50%;}#sk-container-id-10 div.sk-parallel-item:last-child::after {align-self: flex-start;width: 50%;}#sk-container-id-10 div.sk-parallel-item:only-child::after {width: 0;}#sk-container-id-10 div.sk-dashed-wrapped {border: 1px dashed gray;margin: 0 0.4em 0.5em 0.4em;box-sizing: border-box;padding-bottom: 0.4em;background-color: white;}#sk-container-id-10 div.sk-label label {font-family: monospace;font-weight: bold;display: inline-block;line-height: 1.2em;}#sk-container-id-10 div.sk-label-container {text-align: center;}#sk-container-id-10 div.sk-container {/* jupyter's `normalize.less` sets `[hidden] { display: none; }` but bootstrap.min.css set `[hidden] { display: none !important; }` so we also need the `!important` here to be able to override the default hidden behavior on the sphinx rendered scikit-learn.org. See: https://github.com/scikit-learn/scikit-learn/issues/21755 */display: inline-block !important;position: relative;}#sk-container-id-10 div.sk-text-repr-fallback {display: none;}</style><div id=\"sk-container-id-10\" class=\"sk-top-container\"><div class=\"sk-text-repr-fallback\"><pre>LinearRegression()</pre><b>In a Jupyter environment, please rerun this cell to show the HTML representation or trust the notebook. <br />On GitHub, the HTML representation is unable to render, please try loading this page with nbviewer.org.</b></div><div class=\"sk-container\" hidden><div class=\"sk-item\"><div class=\"sk-estimator sk-toggleable\"><input class=\"sk-toggleable__control sk-hidden--visually\" id=\"sk-estimator-id-10\" type=\"checkbox\" checked><label for=\"sk-estimator-id-10\" class=\"sk-toggleable__label sk-toggleable__label-arrow\">LinearRegression</label><div class=\"sk-toggleable__content\"><pre>LinearRegression()</pre></div></div></div></div></div>"
      ],
      "text/plain": [
       "LinearRegression()"
      ]
     },
     "execution_count": 275,
     "metadata": {},
     "output_type": "execute_result"
    }
   ],
   "source": [
    "scores_predictive_model.fit(X_training, y_training)"
   ]
  },
  {
   "cell_type": "code",
   "execution_count": 258,
   "id": "b49d57b5-a922-43a8-813f-8c1d9ae93a5c",
   "metadata": {
    "tags": []
   },
   "outputs": [
    {
     "name": "stdout",
     "output_type": "stream",
     "text": [
      "Predicitve Model Coefficients: [[-0.19039602  0.058473    0.05191213 -0.01109172  0.45697414  0.0744538\n",
      "   0.74338628 -0.19280091]\n",
      " [ 0.64729789  0.18056421 -0.4362169   0.17569138  0.15550712  0.63476714\n",
      "  -0.51594777  0.33426769]]\n"
     ]
    }
   ],
   "source": [
    "print(f\"Predicitve Model Coefficients: {scores_predictive_model.coef_}\")"
   ]
  },
  {
   "cell_type": "code",
   "execution_count": 259,
   "id": "e5f74664-4dcf-472a-8dc6-be8132e2271c",
   "metadata": {
    "tags": []
   },
   "outputs": [],
   "source": [
    "pretty_coefficient_matrix = np.array([\n",
    "    [-0.24110394,  0.11610089,  0.52317278, -0.04158762,  0.17560229, -0.06650812,  0.74122126, -0.13747368],\n",
    "    [-0.60110002,  0.33611773,  0.65602659,  0.04556856, -0.06496352,  0.25966149,  0.45102472,  0.34020815]])"
   ]
  },
  {
   "cell_type": "code",
   "execution_count": 260,
   "id": "c95bbe95-34b8-4ef5-b217-585c7907920f",
   "metadata": {
    "tags": []
   },
   "outputs": [],
   "source": [
    "coefficient_matrix_columns = [\n",
    "    'Domestic_Short', 'Domestic_Long', \n",
    "    'International_1_Short', 'International_1_Long',\n",
    "    'International_2_Short', 'International_2_Long',\n",
    "    'Nationals_Short', 'Nationals_Long']\n",
    "coefficient_matrix_rows = ['Worlds_Short', 'Worlds_Long']"
   ]
  },
  {
   "cell_type": "code",
   "execution_count": 261,
   "id": "e4e1e8f8-4ecc-44e6-a134-be337120f624",
   "metadata": {
    "tags": []
   },
   "outputs": [],
   "source": [
    "Coefficient_Matrix_of_Model = pd.DataFrame(pretty_coefficient_matrix, columns = coefficient_matrix_columns, index = coefficient_matrix_rows)"
   ]
  },
  {
   "cell_type": "code",
   "execution_count": 262,
   "id": "feb5e187-6202-4cd4-b77f-7273eb90ca59",
   "metadata": {
    "tags": []
   },
   "outputs": [
    {
     "name": "stdout",
     "output_type": "stream",
     "text": [
      "              Domestic_Short  Domestic_Long  International_1_Short  \\\n",
      "Worlds_Short         -0.2411        0.11610                0.52317   \n",
      "Worlds_Long          -0.6011        0.33612                0.65603   \n",
      "\n",
      "              International_1_Long  International_2_Short  \\\n",
      "Worlds_Short              -0.04159                0.17560   \n",
      "Worlds_Long                0.04557               -0.06496   \n",
      "\n",
      "              International_2_Long  Nationals_Short  Nationals_Long  \n",
      "Worlds_Short              -0.06651          0.74122        -0.13747  \n",
      "Worlds_Long                0.25966          0.45102         0.34021  \n"
     ]
    }
   ],
   "source": [
    "print(Coefficient_Matrix_of_Model.round(5))"
   ]
  },
  {
   "cell_type": "markdown",
   "id": "b55c1e73-335d-4441-bdb8-49be4ca682c4",
   "metadata": {},
   "source": [
    "## Perform Cross Validation (negative mean squared error and r^2)"
   ]
  },
  {
   "cell_type": "code",
   "execution_count": 263,
   "id": "193e319a-d054-47c9-8973-1b8e17bb849d",
   "metadata": {
    "tags": []
   },
   "outputs": [],
   "source": [
    "from sklearn.model_selection import KFold"
   ]
  },
  {
   "cell_type": "code",
   "execution_count": 264,
   "id": "ecc953ca-bfbb-4d08-b1bf-4899645144f9",
   "metadata": {
    "tags": []
   },
   "outputs": [],
   "source": [
    "k_fold = KFold(n_splits = 10, shuffle = True, random_state = 48)"
   ]
  },
  {
   "cell_type": "code",
   "execution_count": 265,
   "id": "ca4eca81-d0eb-400f-9028-8aac4da0f6b8",
   "metadata": {
    "tags": []
   },
   "outputs": [],
   "source": [
    "from sklearn.model_selection import cross_val_score"
   ]
  },
  {
   "cell_type": "code",
   "execution_count": 266,
   "id": "b90ad8d9-915a-4621-bc1e-07d0ab151272",
   "metadata": {
    "tags": []
   },
   "outputs": [],
   "source": [
    "from sklearn.metrics import make_scorer, mean_squared_error"
   ]
  },
  {
   "cell_type": "code",
   "execution_count": 267,
   "id": "5abd6d14-6d81-4882-9e06-07fde53de8b9",
   "metadata": {
    "tags": []
   },
   "outputs": [],
   "source": [
    "rmse = make_scorer(mean_squared_error, greater_is_better = False, squared = False)"
   ]
  },
  {
   "cell_type": "code",
   "execution_count": 268,
   "id": "166ea902-70c4-4d37-a73f-bb82dd314651",
   "metadata": {
    "tags": []
   },
   "outputs": [],
   "source": [
    "cross_validate_rmse = cross_val_score(scores_predictive_model, X_training, y_training, cv = k_fold, scoring = rmse)"
   ]
  },
  {
   "cell_type": "code",
   "execution_count": 269,
   "id": "85482651-ce57-4ef3-b2c5-3092df5e5938",
   "metadata": {
    "tags": []
   },
   "outputs": [],
   "source": [
    "cross_validate_r2 = cross_val_score(scores_predictive_model, X_training, y_training, cv = k_fold, scoring = 'r2')"
   ]
  },
  {
   "cell_type": "code",
   "execution_count": 270,
   "id": "8160c058-5581-4198-ad35-a09d87aba325",
   "metadata": {
    "tags": []
   },
   "outputs": [
    {
     "name": "stdout",
     "output_type": "stream",
     "text": [
      "Negative Root Mean Squared Error Average: 6.802\n",
      "R^2 Average: -12.220\n"
     ]
    }
   ],
   "source": [
    "print(f\"Negative Root Mean Squared Error Average: {-cross_validate_rmse.mean():.3f}\")\n",
    "print(f\"R^2 Average: {cross_validate_r2.mean():.3f}\")"
   ]
  },
  {
   "cell_type": "markdown",
   "id": "7a7a6074-8d6b-441e-a0b9-373f935ceb0e",
   "metadata": {},
   "source": [
    "## Use model "
   ]
  },
  {
   "cell_type": "code",
   "execution_count": 298,
   "id": "09869081-b0f1-4de8-90a5-a61b976ecd90",
   "metadata": {
    "tags": []
   },
   "outputs": [],
   "source": [
    "X_testing = testing[['Domestic_Short', 'Domestic_Long', 'International_1_Short', 'International_1_Long', \n",
    "                          'International_2_Short', 'International_2_Long', 'Nationals_Short', 'Nationals_Long']]"
   ]
  },
  {
   "cell_type": "code",
   "execution_count": 299,
   "id": "d70edd76-92c9-4d1d-bc92-fd71e12866ee",
   "metadata": {
    "tags": []
   },
   "outputs": [],
   "source": [
    "Worlds_Predictions = scores_predictive_model.predict(X_testing)"
   ]
  },
  {
   "cell_type": "code",
   "execution_count": 300,
   "id": "120a1a47-9f14-4b05-b71b-8d32efd2cc88",
   "metadata": {
    "tags": []
   },
   "outputs": [
    {
     "ename": "TypeError",
     "evalue": "list indices must be integers or slices, not str",
     "output_type": "error",
     "traceback": [
      "\u001b[0;31m---------------------------------------------------------------------------\u001b[0m",
      "\u001b[0;31mTypeError\u001b[0m                                 Traceback (most recent call last)",
      "Cell \u001b[0;32mIn[300], line 1\u001b[0m\n\u001b[0;32m----> 1\u001b[0m testing_teams[\u001b[38;5;124m'\u001b[39m\u001b[38;5;124mPredicted_Worlds_Short\u001b[39m\u001b[38;5;124m'\u001b[39m] \u001b[38;5;241m=\u001b[39m Worlds_Predictions[:, \u001b[38;5;241m0\u001b[39m]\n\u001b[1;32m      2\u001b[0m testing_teams[\u001b[38;5;124m'\u001b[39m\u001b[38;5;124mPredicted_Worlds_Long\u001b[39m\u001b[38;5;124m'\u001b[39m] \u001b[38;5;241m=\u001b[39m Worlds_Predictions[:, \u001b[38;5;241m1\u001b[39m]\n",
      "\u001b[0;31mTypeError\u001b[0m: list indices must be integers or slices, not str"
     ]
    }
   ],
   "source": [
    "testing_teams['Predicted_Worlds_Short'] = Worlds_Predictions[:, 0]\n",
    "testing_teams['Predicted_Worlds_Long'] = Worlds_Predictions[:, 1]"
   ]
  },
  {
   "cell_type": "code",
   "execution_count": 301,
   "id": "871e4a30-6c1f-4074-b5f5-0d6b7895ca10",
   "metadata": {
    "tags": []
   },
   "outputs": [
    {
     "name": "stdout",
     "output_type": "stream",
     "text": [
      "Predictions for 2024/25 World Championship Short and Long Program Scores:\n"
     ]
    },
    {
     "ename": "KeyError",
     "evalue": "'Team_Name_Year'",
     "output_type": "error",
     "traceback": [
      "\u001b[0;31m---------------------------------------------------------------------------\u001b[0m",
      "\u001b[0;31mKeyError\u001b[0m                                  Traceback (most recent call last)",
      "File \u001b[0;32m~/anaconda3/lib/python3.11/site-packages/pandas/core/indexes/base.py:3653\u001b[0m, in \u001b[0;36mIndex.get_loc\u001b[0;34m(self, key)\u001b[0m\n\u001b[1;32m   3652\u001b[0m \u001b[38;5;28;01mtry\u001b[39;00m:\n\u001b[0;32m-> 3653\u001b[0m     \u001b[38;5;28;01mreturn\u001b[39;00m \u001b[38;5;28mself\u001b[39m\u001b[38;5;241m.\u001b[39m_engine\u001b[38;5;241m.\u001b[39mget_loc(casted_key)\n\u001b[1;32m   3654\u001b[0m \u001b[38;5;28;01mexcept\u001b[39;00m \u001b[38;5;167;01mKeyError\u001b[39;00m \u001b[38;5;28;01mas\u001b[39;00m err:\n",
      "File \u001b[0;32m~/anaconda3/lib/python3.11/site-packages/pandas/_libs/index.pyx:147\u001b[0m, in \u001b[0;36mpandas._libs.index.IndexEngine.get_loc\u001b[0;34m()\u001b[0m\n",
      "File \u001b[0;32m~/anaconda3/lib/python3.11/site-packages/pandas/_libs/index.pyx:176\u001b[0m, in \u001b[0;36mpandas._libs.index.IndexEngine.get_loc\u001b[0;34m()\u001b[0m\n",
      "File \u001b[0;32mpandas/_libs/hashtable_class_helper.pxi:7080\u001b[0m, in \u001b[0;36mpandas._libs.hashtable.PyObjectHashTable.get_item\u001b[0;34m()\u001b[0m\n",
      "File \u001b[0;32mpandas/_libs/hashtable_class_helper.pxi:7088\u001b[0m, in \u001b[0;36mpandas._libs.hashtable.PyObjectHashTable.get_item\u001b[0;34m()\u001b[0m\n",
      "\u001b[0;31mKeyError\u001b[0m: 'Team_Name_Year'",
      "\nThe above exception was the direct cause of the following exception:\n",
      "\u001b[0;31mKeyError\u001b[0m                                  Traceback (most recent call last)",
      "Cell \u001b[0;32mIn[301], line 3\u001b[0m\n\u001b[1;32m      1\u001b[0m \u001b[38;5;28mprint\u001b[39m(\u001b[38;5;124m\"\u001b[39m\u001b[38;5;124mPredictions for 2024/25 World Championship Short and Long Program Scores:\u001b[39m\u001b[38;5;124m\"\u001b[39m)\n\u001b[1;32m      2\u001b[0m \u001b[38;5;28;01mfor\u001b[39;00m index, row \u001b[38;5;129;01min\u001b[39;00m X_testing\u001b[38;5;241m.\u001b[39miterrows():\n\u001b[0;32m----> 3\u001b[0m     \u001b[38;5;28mprint\u001b[39m(\u001b[38;5;124mf\u001b[39m\u001b[38;5;124m\"\u001b[39m\u001b[38;5;124mTeam Name and Year: \u001b[39m\u001b[38;5;132;01m{\u001b[39;00mrow[\u001b[38;5;124m'\u001b[39m\u001b[38;5;124mTeam_Name_Year\u001b[39m\u001b[38;5;124m'\u001b[39m]\u001b[38;5;132;01m}\u001b[39;00m\u001b[38;5;124m, Predicted Short Program Score: \u001b[39m\u001b[38;5;132;01m{\u001b[39;00mrow[\u001b[38;5;124m'\u001b[39m\u001b[38;5;124mPredicted_Worlds_Short\u001b[39m\u001b[38;5;124m'\u001b[39m]\u001b[38;5;132;01m:\u001b[39;00m\u001b[38;5;124m.2f\u001b[39m\u001b[38;5;132;01m}\u001b[39;00m\u001b[38;5;124m, Predicted Long Program Score: \u001b[39m\u001b[38;5;132;01m{\u001b[39;00mrow[\u001b[38;5;124m'\u001b[39m\u001b[38;5;124mPredicted_Worlds_Long\u001b[39m\u001b[38;5;124m'\u001b[39m]\u001b[38;5;132;01m:\u001b[39;00m\u001b[38;5;124m.2f\u001b[39m\u001b[38;5;132;01m}\u001b[39;00m\u001b[38;5;124m\"\u001b[39m)\n",
      "File \u001b[0;32m~/anaconda3/lib/python3.11/site-packages/pandas/core/series.py:1007\u001b[0m, in \u001b[0;36mSeries.__getitem__\u001b[0;34m(self, key)\u001b[0m\n\u001b[1;32m   1004\u001b[0m     \u001b[38;5;28;01mreturn\u001b[39;00m \u001b[38;5;28mself\u001b[39m\u001b[38;5;241m.\u001b[39m_values[key]\n\u001b[1;32m   1006\u001b[0m \u001b[38;5;28;01melif\u001b[39;00m key_is_scalar:\n\u001b[0;32m-> 1007\u001b[0m     \u001b[38;5;28;01mreturn\u001b[39;00m \u001b[38;5;28mself\u001b[39m\u001b[38;5;241m.\u001b[39m_get_value(key)\n\u001b[1;32m   1009\u001b[0m \u001b[38;5;28;01mif\u001b[39;00m is_hashable(key):\n\u001b[1;32m   1010\u001b[0m     \u001b[38;5;66;03m# Otherwise index.get_value will raise InvalidIndexError\u001b[39;00m\n\u001b[1;32m   1011\u001b[0m     \u001b[38;5;28;01mtry\u001b[39;00m:\n\u001b[1;32m   1012\u001b[0m         \u001b[38;5;66;03m# For labels that don't resolve as scalars like tuples and frozensets\u001b[39;00m\n",
      "File \u001b[0;32m~/anaconda3/lib/python3.11/site-packages/pandas/core/series.py:1116\u001b[0m, in \u001b[0;36mSeries._get_value\u001b[0;34m(self, label, takeable)\u001b[0m\n\u001b[1;32m   1113\u001b[0m     \u001b[38;5;28;01mreturn\u001b[39;00m \u001b[38;5;28mself\u001b[39m\u001b[38;5;241m.\u001b[39m_values[label]\n\u001b[1;32m   1115\u001b[0m \u001b[38;5;66;03m# Similar to Index.get_value, but we do not fall back to positional\u001b[39;00m\n\u001b[0;32m-> 1116\u001b[0m loc \u001b[38;5;241m=\u001b[39m \u001b[38;5;28mself\u001b[39m\u001b[38;5;241m.\u001b[39mindex\u001b[38;5;241m.\u001b[39mget_loc(label)\n\u001b[1;32m   1118\u001b[0m \u001b[38;5;28;01mif\u001b[39;00m is_integer(loc):\n\u001b[1;32m   1119\u001b[0m     \u001b[38;5;28;01mreturn\u001b[39;00m \u001b[38;5;28mself\u001b[39m\u001b[38;5;241m.\u001b[39m_values[loc]\n",
      "File \u001b[0;32m~/anaconda3/lib/python3.11/site-packages/pandas/core/indexes/base.py:3655\u001b[0m, in \u001b[0;36mIndex.get_loc\u001b[0;34m(self, key)\u001b[0m\n\u001b[1;32m   3653\u001b[0m     \u001b[38;5;28;01mreturn\u001b[39;00m \u001b[38;5;28mself\u001b[39m\u001b[38;5;241m.\u001b[39m_engine\u001b[38;5;241m.\u001b[39mget_loc(casted_key)\n\u001b[1;32m   3654\u001b[0m \u001b[38;5;28;01mexcept\u001b[39;00m \u001b[38;5;167;01mKeyError\u001b[39;00m \u001b[38;5;28;01mas\u001b[39;00m err:\n\u001b[0;32m-> 3655\u001b[0m     \u001b[38;5;28;01mraise\u001b[39;00m \u001b[38;5;167;01mKeyError\u001b[39;00m(key) \u001b[38;5;28;01mfrom\u001b[39;00m \u001b[38;5;21;01merr\u001b[39;00m\n\u001b[1;32m   3656\u001b[0m \u001b[38;5;28;01mexcept\u001b[39;00m \u001b[38;5;167;01mTypeError\u001b[39;00m:\n\u001b[1;32m   3657\u001b[0m     \u001b[38;5;66;03m# If we have a listlike key, _check_indexing_error will raise\u001b[39;00m\n\u001b[1;32m   3658\u001b[0m     \u001b[38;5;66;03m#  InvalidIndexError. Otherwise we fall through and re-raise\u001b[39;00m\n\u001b[1;32m   3659\u001b[0m     \u001b[38;5;66;03m#  the TypeError.\u001b[39;00m\n\u001b[1;32m   3660\u001b[0m     \u001b[38;5;28mself\u001b[39m\u001b[38;5;241m.\u001b[39m_check_indexing_error(key)\n",
      "\u001b[0;31mKeyError\u001b[0m: 'Team_Name_Year'"
     ]
    }
   ],
   "source": [
    "print(\"Predictions for 2024/25 World Championship Short and Long Program Scores:\")\n",
    "for index, row in X_testing.iterrows():\n",
    "    print(f\"Team Name and Year: {row['Team_Name_Year']}, Predicted Short Program Score: {row['Predicted_Worlds_Short']:.2f}, Predicted Long Program Score: {row['Predicted_Worlds_Long']:.2f}\")"
   ]
  },
  {
   "cell_type": "code",
   "execution_count": null,
   "id": "220cb285-31eb-4de0-a0eb-2902a682cc1f",
   "metadata": {},
   "outputs": [],
   "source": []
  }
 ],
 "metadata": {
  "kernelspec": {
   "display_name": "Python 3 (ipykernel)",
   "language": "python",
   "name": "python3"
  },
  "language_info": {
   "codemirror_mode": {
    "name": "ipython",
    "version": 3
   },
   "file_extension": ".py",
   "mimetype": "text/x-python",
   "name": "python",
   "nbconvert_exporter": "python",
   "pygments_lexer": "ipython3",
   "version": "3.11.10"
  }
 },
 "nbformat": 4,
 "nbformat_minor": 5
}
