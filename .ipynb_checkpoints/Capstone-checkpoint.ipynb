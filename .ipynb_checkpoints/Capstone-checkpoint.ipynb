{
 "cells": [
  {
   "cell_type": "markdown",
   "id": "52a4fc2b-d015-4afb-a9ea-0ecda51ad186",
   "metadata": {},
   "source": [
    "## Upload Data"
   ]
  },
  {
   "cell_type": "code",
   "execution_count": 155,
   "id": "d5855743-1dfa-421e-8c8d-c89587ce79aa",
   "metadata": {
    "tags": []
   },
   "outputs": [
    {
     "name": "stdout",
     "output_type": "stream",
     "text": [
      "Index(['Team_Name_Year', 'Domestic_Short', 'Domestic_Long',\n",
      "       'International_1_Short', 'International_1_Long',\n",
      "       'International_2_Short', 'International_2_Long', 'Nationals_Short',\n",
      "       'Nationals_Long', 'Words_Short', 'Worlds_Long'],\n",
      "      dtype='object')\n"
     ]
    }
   ],
   "source": [
    "import pandas as pd\n",
    "import numpy as np\n",
    "\n",
    "scores = pd.read_csv(\"capstone_data.csv\")\n",
    "print(scores.columns)"
   ]
  },
  {
   "cell_type": "markdown",
   "id": "cba23346-293e-4e40-b69a-6a7ea8e31a72",
   "metadata": {},
   "source": [
    "## Handle Missing Data"
   ]
  },
  {
   "cell_type": "code",
   "execution_count": 156,
   "id": "1e4d36f6-5758-4d3d-ad0b-98d30db39594",
   "metadata": {
    "tags": []
   },
   "outputs": [
    {
     "name": "stdout",
     "output_type": "stream",
     "text": [
      "          Team_Name_Year  Domestic_Short  Domestic_Long  \\\n",
      "4   Les_Supremes_2017/18             NaN            NaN   \n",
      "11          Nova_2018/19           57.07         124.99   \n",
      "24     Skyliners_2024/25           60.48         114.28   \n",
      "25   Haydenettes_2024/25           62.81         124.08   \n",
      "26     Rockettes_2024/25           76.64         146.95   \n",
      "27   Team_Unique_2024/25           77.68         149.49   \n",
      "28  Les_Supremes_2024/25           71.80         139.94   \n",
      "29          Nova_2024/25           71.72         135.48   \n",
      "\n",
      "    International_1_Short  International_1_Long  International_2_Short  \\\n",
      "4                   64.33                115.20                  66.70   \n",
      "11                  77.94                137.92                    NaN   \n",
      "24                  63.22                124.59                  59.79   \n",
      "25                  74.11                141.20                  76.78   \n",
      "26                  76.97                148.18                  78.63   \n",
      "27                  65.88                138.66                  73.44   \n",
      "28                  77.56                147.64                  77.49   \n",
      "29                  75.82                142.98                  71.96   \n",
      "\n",
      "    International_2_Long  Nationals_Short  Nationals_Long  Words_Short  \\\n",
      "4                 118.42            70.04          130.16        70.64   \n",
      "11                   NaN            82.71          148.64        82.00   \n",
      "24                122.79            68.48          141.03          NaN   \n",
      "25                141.99            78.77          150.94          NaN   \n",
      "26                137.80            78.64          142.11          NaN   \n",
      "27                151.09            77.93          143.24          NaN   \n",
      "28                140.87            79.53          144.20          NaN   \n",
      "29                132.94            75.13          144.90          NaN   \n",
      "\n",
      "    Worlds_Long  \n",
      "4        122.24  \n",
      "11       127.01  \n",
      "24          NaN  \n",
      "25          NaN  \n",
      "26          NaN  \n",
      "27          NaN  \n",
      "28          NaN  \n",
      "29          NaN  \n"
     ]
    }
   ],
   "source": [
    "missing_data_rows = scores[scores.isnull().any(axis=1)]\n",
    "print(missing_data_rows)"
   ]
  },
  {
   "cell_type": "code",
   "execution_count": 157,
   "id": "3dc57e36-9481-4547-8afa-6b30890a0877",
   "metadata": {
    "tags": []
   },
   "outputs": [],
   "source": [
    "short_columns = ['Domestic_Short', 'International_1_Short', 'International_2_Short', 'Nationals_Short']\n",
    "long_columns  = ['Domestic_Long', 'International_1_Long', 'International_2_Long', 'Nationals_Long']"
   ]
  },
  {
   "cell_type": "code",
   "execution_count": 158,
   "id": "88f4373b-c977-4266-93de-333da5cc67f5",
   "metadata": {
    "tags": []
   },
   "outputs": [],
   "source": [
    "row = scores.loc[4]\n",
    "short_average = row[short_columns].dropna().mean()\n",
    "long_average = row[long_columns].dropna().mean()"
   ]
  },
  {
   "cell_type": "code",
   "execution_count": 159,
   "id": "e0fafba9-f7a1-4a15-8513-669ab645c66c",
   "metadata": {
    "tags": []
   },
   "outputs": [],
   "source": [
    "if pd.isna(row['Domestic_Short']):\n",
    "    scores.loc[4, 'Domestic_Short'] = short_average\n",
    "\n",
    "if pd.isna(row['Domestic_Long']):\n",
    "    scores.loc[4, 'Domestic_Long'] = long_average"
   ]
  },
  {
   "cell_type": "code",
   "execution_count": 160,
   "id": "3e63b97b-6d5c-4ed6-9e96-a74abdbb2f5f",
   "metadata": {
    "tags": []
   },
   "outputs": [],
   "source": [
    "row = scores.loc[11]\n",
    "short_average = row[short_columns].dropna().mean()\n",
    "long_average = row[long_columns].dropna().mean()"
   ]
  },
  {
   "cell_type": "code",
   "execution_count": 161,
   "id": "a2e5188e-eb69-4553-8488-5f81cdb052c8",
   "metadata": {
    "tags": []
   },
   "outputs": [],
   "source": [
    "if pd.isna(row['International_2_Short']):\n",
    "    scores.loc[11, 'International_2_Short'] = short_average\n",
    "\n",
    "if pd.isna(row['International_2_Long']):\n",
    "    scores.loc[11, 'International_2_Long'] = long_average"
   ]
  },
  {
   "cell_type": "code",
   "execution_count": 162,
   "id": "04891d70-e147-4124-a4e6-94d6a23ba665",
   "metadata": {
    "tags": []
   },
   "outputs": [
    {
     "name": "stdout",
     "output_type": "stream",
     "text": [
      "          Team_Name_Year  Domestic_Short  Domestic_Long  \\\n",
      "24     Skyliners_2024/25           60.48         114.28   \n",
      "25   Haydenettes_2024/25           62.81         124.08   \n",
      "26     Rockettes_2024/25           76.64         146.95   \n",
      "27   Team_Unique_2024/25           77.68         149.49   \n",
      "28  Les_Supremes_2024/25           71.80         139.94   \n",
      "29          Nova_2024/25           71.72         135.48   \n",
      "\n",
      "    International_1_Short  International_1_Long  International_2_Short  \\\n",
      "24                  63.22                124.59                  59.79   \n",
      "25                  74.11                141.20                  76.78   \n",
      "26                  76.97                148.18                  78.63   \n",
      "27                  65.88                138.66                  73.44   \n",
      "28                  77.56                147.64                  77.49   \n",
      "29                  75.82                142.98                  71.96   \n",
      "\n",
      "    International_2_Long  Nationals_Short  Nationals_Long  Words_Short  \\\n",
      "24                122.79            68.48          141.03          NaN   \n",
      "25                141.99            78.77          150.94          NaN   \n",
      "26                137.80            78.64          142.11          NaN   \n",
      "27                151.09            77.93          143.24          NaN   \n",
      "28                140.87            79.53          144.20          NaN   \n",
      "29                132.94            75.13          144.90          NaN   \n",
      "\n",
      "    Worlds_Long  \n",
      "24          NaN  \n",
      "25          NaN  \n",
      "26          NaN  \n",
      "27          NaN  \n",
      "28          NaN  \n",
      "29          NaN  \n"
     ]
    }
   ],
   "source": [
    "missing_data_rows = scores[scores.isnull().any(axis=1)]\n",
    "print(missing_data_rows)"
   ]
  },
  {
   "cell_type": "markdown",
   "id": "08affca2-436c-4520-a1bc-acd47bab8c4a",
   "metadata": {},
   "source": [
    "## Seperate Data (training/testing sets, X and y)"
   ]
  },
  {
   "cell_type": "code",
   "execution_count": 163,
   "id": "73154901-b21f-459d-a3e3-3cfa0175a6d4",
   "metadata": {
    "tags": []
   },
   "outputs": [],
   "source": [
    "from sklearn.linear_model import LinearRegression"
   ]
  },
  {
   "cell_type": "code",
   "execution_count": 164,
   "id": "00016967-9b2b-422d-a967-31e1ebffb994",
   "metadata": {
    "tags": []
   },
   "outputs": [
    {
     "name": "stdout",
     "output_type": "stream",
     "text": [
      "0              Skyliners_2017/18\n",
      "1            Haydenettes_2017/18\n",
      "2     Marigold_Ice_Unity_2017/18\n",
      "3            Team_Unique_2017/18\n",
      "4           Les_Supremes_2017/18\n",
      "5                Nexxice_2017/18\n",
      "6              Skyliners_2018/19\n",
      "7            Haydenettes_2018/19\n",
      "8     Marigold_Ice_Unity_2018/19\n",
      "9              Rockettes_2018/19\n",
      "10               Nexxice_2018/19\n",
      "11                  Nova_2018/19\n",
      "12                 Miami_2022/23\n",
      "13           Haydenettes_2022/23\n",
      "14             Rockettes_2022/23\n",
      "15           Team_Unique_2022/23\n",
      "16          Les_Supremes_2022/23\n",
      "17               Nexxice_2022/23\n",
      "18             Skyliners_2023/24\n",
      "19           Haydenettes_2023/24\n",
      "20             Rockettes_2023/24\n",
      "21           Team_Unique_2023/24\n",
      "22          Les_Supremes_2023/24\n",
      "23                  Nova_2023/24\n",
      "24             Skyliners_2024/25\n",
      "25           Haydenettes_2024/25\n",
      "26             Rockettes_2024/25\n",
      "27           Team_Unique_2024/25\n",
      "28          Les_Supremes_2024/25\n",
      "29                  Nova_2024/25\n",
      "Name: Team_Name_Year, dtype: object\n"
     ]
    }
   ],
   "source": [
    "print(scores[\"Team_Name_Year\"])"
   ]
  },
  {
   "cell_type": "code",
   "execution_count": 165,
   "id": "c941c5e6-506a-4cf7-a771-d6cdf00f3829",
   "metadata": {
    "tags": []
   },
   "outputs": [],
   "source": [
    "training_teams = [\n",
    "    'Skyliners_2017/18', 'Haydenettes_2017/18', 'Marigold_Ice_Unity_2017/18', \n",
    "    'Team_Unique_2017/18', 'Les_Supremes_2017/18', 'Nexxice_2017/18', \n",
    "    'Skyliners_2018/19', 'Haydenettes_2018/19', 'Marigold_Ice_Unity_2018/19', \n",
    "    'Rockettes_2018/19', 'Nexxice_2018/19', 'Nova_2018/19', 'Miami_2022/23', \n",
    "    'Haydenettes_2022/23', 'Rockettes_2022/23', 'Team_Unique_2022/23', \n",
    "    'Les_Supremes_2022/23', 'Nexxice_2022/23', 'Skyliners_2023/24', \n",
    "    'Haydenettes_2023/24', 'Rockettes_2023/24', 'Team_Unique_2023/24', \n",
    "    'Les_Supremes_2023/24', 'Nova_2023/24'\n",
    "]\n",
    "testing_teams = [\n",
    "    'Skyliners_2024/25', 'Haydenettes_2024/25', 'Rockettes_2024/25', \n",
    "    'Team_Unique_2024/25', 'Les_Supremes_2024/25', 'Nova_2024/25'\n",
    "]\n",
    "\n",
    "training = scores[~scores['Team_Name_Year'].isin(training_teams)]\n",
    "testing = scores[scores['Team_Name_Year'].isin(testing_teams)]"
   ]
  },
  {
   "cell_type": "code",
   "execution_count": 166,
   "id": "0b119b2e-d0c1-4ede-81fb-4e1b6d5eb66a",
   "metadata": {
    "tags": []
   },
   "outputs": [
    {
     "name": "stdout",
     "output_type": "stream",
     "text": [
      "Index(['Team_Name_Year', 'Domestic_Short', 'Domestic_Long',\n",
      "       'International_1_Short', 'International_1_Long',\n",
      "       'International_2_Short', 'International_2_Long', 'Nationals_Short',\n",
      "       'Nationals_Long', 'Words_Short', 'Worlds_Long'],\n",
      "      dtype='object')\n"
     ]
    }
   ],
   "source": [
    "print(scores.columns)"
   ]
  },
  {
   "cell_type": "code",
   "execution_count": 167,
   "id": "d978542b-c5cc-49a2-bfe7-754eeb6854aa",
   "metadata": {
    "tags": []
   },
   "outputs": [],
   "source": [
    "training_data = scores[scores['Team_Name_Year'].isin(training_teams)]"
   ]
  },
  {
   "cell_type": "code",
   "execution_count": 168,
   "id": "ece75953-b6d4-4dd0-aa13-6d88ffc05ba5",
   "metadata": {
    "tags": []
   },
   "outputs": [],
   "source": [
    "X_training = training_data[['Domestic_Short', 'Domestic_Long',\n",
    "       'International_1_Short', 'International_1_Long',\n",
    "       'International_2_Short', 'International_2_Long', 'Nationals_Short',\n",
    "       'Nationals_Long']]\n",
    "y_training = training_data[['Words_Short', 'Worlds_Long']]"
   ]
  },
  {
   "cell_type": "markdown",
   "id": "631f6801-4277-4970-8113-edb02c9d8645",
   "metadata": {},
   "source": [
    "## Initialize regression model, fit it to training sets, print coefficient matrix"
   ]
  },
  {
   "cell_type": "code",
   "execution_count": 169,
   "id": "784f4b14-29de-4617-ae6b-36881ecc5a0c",
   "metadata": {
    "tags": []
   },
   "outputs": [],
   "source": [
    "from sklearn.linear_model import LinearRegression"
   ]
  },
  {
   "cell_type": "code",
   "execution_count": 170,
   "id": "abea4e7a-cacd-437b-8fb8-f30dbea23602",
   "metadata": {
    "tags": []
   },
   "outputs": [],
   "source": [
    "from sklearn.preprocessing import StandardScaler"
   ]
  },
  {
   "cell_type": "code",
   "execution_count": 171,
   "id": "ae0364e4-acf9-4c6f-a53e-5d09d5164cbf",
   "metadata": {
    "tags": []
   },
   "outputs": [],
   "source": [
    "scaler = StandardScaler()\n",
    "X_scaled = scaler.fit_transform(X_training)"
   ]
  },
  {
   "cell_type": "code",
   "execution_count": 172,
   "id": "c2fdcc16-6a6f-4a82-919a-e5317a642a3c",
   "metadata": {
    "tags": []
   },
   "outputs": [],
   "source": [
    "scores_predictive_model = LinearRegression()"
   ]
  },
  {
   "cell_type": "code",
   "execution_count": 211,
   "id": "ec6b2873-fa8b-47b4-bca2-0fc959d6a7e2",
   "metadata": {
    "tags": []
   },
   "outputs": [
    {
     "data": {
      "text/html": [
       "<style>#sk-container-id-6 {color: black;}#sk-container-id-6 pre{padding: 0;}#sk-container-id-6 div.sk-toggleable {background-color: white;}#sk-container-id-6 label.sk-toggleable__label {cursor: pointer;display: block;width: 100%;margin-bottom: 0;padding: 0.3em;box-sizing: border-box;text-align: center;}#sk-container-id-6 label.sk-toggleable__label-arrow:before {content: \"▸\";float: left;margin-right: 0.25em;color: #696969;}#sk-container-id-6 label.sk-toggleable__label-arrow:hover:before {color: black;}#sk-container-id-6 div.sk-estimator:hover label.sk-toggleable__label-arrow:before {color: black;}#sk-container-id-6 div.sk-toggleable__content {max-height: 0;max-width: 0;overflow: hidden;text-align: left;background-color: #f0f8ff;}#sk-container-id-6 div.sk-toggleable__content pre {margin: 0.2em;color: black;border-radius: 0.25em;background-color: #f0f8ff;}#sk-container-id-6 input.sk-toggleable__control:checked~div.sk-toggleable__content {max-height: 200px;max-width: 100%;overflow: auto;}#sk-container-id-6 input.sk-toggleable__control:checked~label.sk-toggleable__label-arrow:before {content: \"▾\";}#sk-container-id-6 div.sk-estimator input.sk-toggleable__control:checked~label.sk-toggleable__label {background-color: #d4ebff;}#sk-container-id-6 div.sk-label input.sk-toggleable__control:checked~label.sk-toggleable__label {background-color: #d4ebff;}#sk-container-id-6 input.sk-hidden--visually {border: 0;clip: rect(1px 1px 1px 1px);clip: rect(1px, 1px, 1px, 1px);height: 1px;margin: -1px;overflow: hidden;padding: 0;position: absolute;width: 1px;}#sk-container-id-6 div.sk-estimator {font-family: monospace;background-color: #f0f8ff;border: 1px dotted black;border-radius: 0.25em;box-sizing: border-box;margin-bottom: 0.5em;}#sk-container-id-6 div.sk-estimator:hover {background-color: #d4ebff;}#sk-container-id-6 div.sk-parallel-item::after {content: \"\";width: 100%;border-bottom: 1px solid gray;flex-grow: 1;}#sk-container-id-6 div.sk-label:hover label.sk-toggleable__label {background-color: #d4ebff;}#sk-container-id-6 div.sk-serial::before {content: \"\";position: absolute;border-left: 1px solid gray;box-sizing: border-box;top: 0;bottom: 0;left: 50%;z-index: 0;}#sk-container-id-6 div.sk-serial {display: flex;flex-direction: column;align-items: center;background-color: white;padding-right: 0.2em;padding-left: 0.2em;position: relative;}#sk-container-id-6 div.sk-item {position: relative;z-index: 1;}#sk-container-id-6 div.sk-parallel {display: flex;align-items: stretch;justify-content: center;background-color: white;position: relative;}#sk-container-id-6 div.sk-item::before, #sk-container-id-6 div.sk-parallel-item::before {content: \"\";position: absolute;border-left: 1px solid gray;box-sizing: border-box;top: 0;bottom: 0;left: 50%;z-index: -1;}#sk-container-id-6 div.sk-parallel-item {display: flex;flex-direction: column;z-index: 1;position: relative;background-color: white;}#sk-container-id-6 div.sk-parallel-item:first-child::after {align-self: flex-end;width: 50%;}#sk-container-id-6 div.sk-parallel-item:last-child::after {align-self: flex-start;width: 50%;}#sk-container-id-6 div.sk-parallel-item:only-child::after {width: 0;}#sk-container-id-6 div.sk-dashed-wrapped {border: 1px dashed gray;margin: 0 0.4em 0.5em 0.4em;box-sizing: border-box;padding-bottom: 0.4em;background-color: white;}#sk-container-id-6 div.sk-label label {font-family: monospace;font-weight: bold;display: inline-block;line-height: 1.2em;}#sk-container-id-6 div.sk-label-container {text-align: center;}#sk-container-id-6 div.sk-container {/* jupyter's `normalize.less` sets `[hidden] { display: none; }` but bootstrap.min.css set `[hidden] { display: none !important; }` so we also need the `!important` here to be able to override the default hidden behavior on the sphinx rendered scikit-learn.org. See: https://github.com/scikit-learn/scikit-learn/issues/21755 */display: inline-block !important;position: relative;}#sk-container-id-6 div.sk-text-repr-fallback {display: none;}</style><div id=\"sk-container-id-6\" class=\"sk-top-container\"><div class=\"sk-text-repr-fallback\"><pre>LinearRegression()</pre><b>In a Jupyter environment, please rerun this cell to show the HTML representation or trust the notebook. <br />On GitHub, the HTML representation is unable to render, please try loading this page with nbviewer.org.</b></div><div class=\"sk-container\" hidden><div class=\"sk-item\"><div class=\"sk-estimator sk-toggleable\"><input class=\"sk-toggleable__control sk-hidden--visually\" id=\"sk-estimator-id-6\" type=\"checkbox\" checked><label for=\"sk-estimator-id-6\" class=\"sk-toggleable__label sk-toggleable__label-arrow\">LinearRegression</label><div class=\"sk-toggleable__content\"><pre>LinearRegression()</pre></div></div></div></div></div>"
      ],
      "text/plain": [
       "LinearRegression()"
      ]
     },
     "execution_count": 211,
     "metadata": {},
     "output_type": "execute_result"
    }
   ],
   "source": [
    "scores_predictive_model.fit(X_scaled, y_training)"
   ]
  },
  {
   "cell_type": "code",
   "execution_count": 174,
   "id": "b49d57b5-a922-43a8-813f-8c1d9ae93a5c",
   "metadata": {
    "tags": []
   },
   "outputs": [
    {
     "name": "stdout",
     "output_type": "stream",
     "text": [
      "Predicitve Model Coefficients: [[-1.10251247  0.78090829  0.30332006 -0.28124633  2.64271415  1.03267436\n",
      "   3.45574149 -2.10195001]\n",
      " [ 3.74826116  2.41143933 -2.54879435  4.4549046   0.89930881  8.80422158\n",
      "  -2.39845979  3.64424619]]\n"
     ]
    }
   ],
   "source": [
    "print(f\"Predicitve Model Coefficients: {scores_predictive_model.coef_}\")"
   ]
  },
  {
   "cell_type": "code",
   "execution_count": 175,
   "id": "e5f74664-4dcf-472a-8dc6-be8132e2271c",
   "metadata": {
    "tags": []
   },
   "outputs": [],
   "source": [
    "pretty_coefficient_matrix = np.array([\n",
    "    [-0.24110394,  0.11610089,  0.52317278, -0.04158762,  0.17560229, -0.06650812,  0.74122126, -0.13747368],\n",
    "    [-0.60110002,  0.33611773,  0.65602659,  0.04556856, -0.06496352,  0.25966149,  0.45102472,  0.34020815]])"
   ]
  },
  {
   "cell_type": "code",
   "execution_count": 176,
   "id": "c95bbe95-34b8-4ef5-b217-585c7907920f",
   "metadata": {
    "tags": []
   },
   "outputs": [],
   "source": [
    "coefficient_matrix_columns = [\n",
    "    'Domestic_Short', 'Domestic_Long', \n",
    "    'International_1_Short', 'International_1_Long',\n",
    "    'International_2_Short', 'International_2_Long',\n",
    "    'Nationals_Short', 'Nationals_Long']\n",
    "coefficient_matrix_rows = ['Worlds_Short', 'Worlds_Long']"
   ]
  },
  {
   "cell_type": "code",
   "execution_count": 177,
   "id": "e4e1e8f8-4ecc-44e6-a134-be337120f624",
   "metadata": {
    "tags": []
   },
   "outputs": [],
   "source": [
    "Coefficient_Matrix_of_Model = pd.DataFrame(pretty_coefficient_matrix, columns = coefficient_matrix_columns, index = coefficient_matrix_rows)"
   ]
  },
  {
   "cell_type": "code",
   "execution_count": 178,
   "id": "feb5e187-6202-4cd4-b77f-7273eb90ca59",
   "metadata": {
    "tags": []
   },
   "outputs": [
    {
     "name": "stdout",
     "output_type": "stream",
     "text": [
      "              Domestic_Short  Domestic_Long  International_1_Short  \\\n",
      "Worlds_Short         -0.2411        0.11610                0.52317   \n",
      "Worlds_Long          -0.6011        0.33612                0.65603   \n",
      "\n",
      "              International_1_Long  International_2_Short  \\\n",
      "Worlds_Short              -0.04159                0.17560   \n",
      "Worlds_Long                0.04557               -0.06496   \n",
      "\n",
      "              International_2_Long  Nationals_Short  Nationals_Long  \n",
      "Worlds_Short              -0.06651          0.74122        -0.13747  \n",
      "Worlds_Long                0.25966          0.45102         0.34021  \n"
     ]
    }
   ],
   "source": [
    "print(Coefficient_Matrix_of_Model.round(5))"
   ]
  },
  {
   "cell_type": "markdown",
   "id": "b55c1e73-335d-4441-bdb8-49be4ca682c4",
   "metadata": {},
   "source": [
    "## Perform Cross Validation (negative mean squared error and r^2)"
   ]
  },
  {
   "cell_type": "code",
   "execution_count": 179,
   "id": "193e319a-d054-47c9-8973-1b8e17bb849d",
   "metadata": {
    "tags": []
   },
   "outputs": [],
   "source": [
    "from sklearn.model_selection import KFold"
   ]
  },
  {
   "cell_type": "code",
   "execution_count": 231,
   "id": "ecc953ca-bfbb-4d08-b1bf-4899645144f9",
   "metadata": {
    "tags": []
   },
   "outputs": [],
   "source": [
    "k_fold = KFold(n_splits = 3, shuffle = True, random_state = 48)"
   ]
  },
  {
   "cell_type": "code",
   "execution_count": 246,
   "id": "ca4eca81-d0eb-400f-9028-8aac4da0f6b8",
   "metadata": {
    "tags": []
   },
   "outputs": [],
   "source": [
    "from sklearn.model_selection import cross_val_predict"
   ]
  },
  {
   "cell_type": "code",
   "execution_count": 247,
   "id": "b90ad8d9-915a-4621-bc1e-07d0ab151272",
   "metadata": {
    "tags": []
   },
   "outputs": [],
   "source": [
    "from sklearn.metrics import make_scorer, mean_squared_error"
   ]
  },
  {
   "cell_type": "code",
   "execution_count": 248,
   "id": "5abd6d14-6d81-4882-9e06-07fde53de8b9",
   "metadata": {
    "tags": []
   },
   "outputs": [],
   "source": [
    "rmse = make_scorer(mean_squared_error, greater_is_better = False, squared = False)"
   ]
  },
  {
   "cell_type": "code",
   "execution_count": 249,
   "id": "11074bef-f792-4a5c-9e59-a28a5e318dc4",
   "metadata": {
    "tags": []
   },
   "outputs": [],
   "source": [
    "y_training_short = y_training.iloc[:, 0]\n",
    "y_training_long = y_training.iloc[:, 1]"
   ]
  },
  {
   "cell_type": "code",
   "execution_count": 250,
   "id": "166ea902-70c4-4d37-a73f-bb82dd314651",
   "metadata": {
    "tags": []
   },
   "outputs": [
    {
     "ename": "TypeError",
     "evalue": "cross_val_predict() got an unexpected keyword argument 'scoring'",
     "output_type": "error",
     "traceback": [
      "\u001b[0;31m---------------------------------------------------------------------------\u001b[0m",
      "\u001b[0;31mTypeError\u001b[0m                                 Traceback (most recent call last)",
      "Cell \u001b[0;32mIn[250], line 1\u001b[0m\n\u001b[0;32m----> 1\u001b[0m short_cross_validate_rmse \u001b[38;5;241m=\u001b[39m cross_val_predict(scores_predictive_model, X_scaled, y_training_short, cv \u001b[38;5;241m=\u001b[39m k_fold, scoring \u001b[38;5;241m=\u001b[39m rmse)\n\u001b[1;32m      2\u001b[0m long_cross_validate_rmse \u001b[38;5;241m=\u001b[39m cross_val_predict(scores_predictive_model, X_scaled, y_training_long, cv \u001b[38;5;241m=\u001b[39m k_fold, scoring \u001b[38;5;241m=\u001b[39m rmse)\n",
      "\u001b[0;31mTypeError\u001b[0m: cross_val_predict() got an unexpected keyword argument 'scoring'"
     ]
    }
   ],
   "source": [
    "short_cross_validate_rmse = cross_val_predict(scores_predictive_model, X_scaled, y_training_short, cv = k_fold, scoring = rmse)\n",
    "long_cross_validate_rmse = cross_val_predict(scores_predictive_model, X_scaled, y_training_long, cv = k_fold, scoring = rmse)"
   ]
  },
  {
   "cell_type": "code",
   "execution_count": 245,
   "id": "0bb5fb98-5542-4663-9a37-83643521f344",
   "metadata": {
    "tags": []
   },
   "outputs": [
    {
     "name": "stdout",
     "output_type": "stream",
     "text": [
      "0.8555127210971831\n"
     ]
    }
   ],
   "source": [
    "print(scores_predictive_model.score(X_scaled, y_training))\n",
    "#this is coefficient of determination"
   ]
  },
  {
   "cell_type": "code",
   "execution_count": 244,
   "id": "8160c058-5581-4198-ad35-a09d87aba325",
   "metadata": {
    "tags": []
   },
   "outputs": [
    {
     "name": "stdout",
     "output_type": "stream",
     "text": [
      "Root Mean Squared Error Average for Short Scores: 5.92\n",
      "Root Mean Squared Error Average for Long Scores: 13.0\n"
     ]
    }
   ],
   "source": [
    "print(f\"Root Mean Squared Error Average for Short Scores: {-short_cross_validate_rmse.mean():.3}\")\n",
    "print(f\"Root Mean Squared Error Average for Long Scores: {-long_cross_validate_rmse.mean():.3}\")"
   ]
  },
  {
   "cell_type": "markdown",
   "id": "5525253b-a325-48f0-9e32-073549cf76cb",
   "metadata": {},
   "source": [
    "### Standard Deviation"
   ]
  },
  {
   "cell_type": "code",
   "execution_count": 240,
   "id": "163bf1e1-df58-4974-99ca-b479cf6525ee",
   "metadata": {
    "tags": []
   },
   "outputs": [],
   "source": [
    "standard_deviation_short = np.std(y_short)\n",
    "standard_deviation_long = np.std(y_long)"
   ]
  },
  {
   "cell_type": "code",
   "execution_count": 204,
   "id": "d7cacbb9-1684-48b5-a28e-ec09c6ad8f1d",
   "metadata": {
    "tags": []
   },
   "outputs": [
    {
     "name": "stdout",
     "output_type": "stream",
     "text": [
      "Standard Deviation of Worlds Short Scores in Training Set: 5.668089956061036\n",
      "Standard Deviation of Worlds Long Scores in Training Set: 15.009471864783327\n"
     ]
    }
   ],
   "source": [
    "print(\"Standard Deviation of Worlds Short Scores in Training Set:\", standard_deviation_short)\n",
    "print(\"Standard Deviation of Worlds Long Scores in Training Set:\", standard_deviation_long)"
   ]
  },
  {
   "cell_type": "markdown",
   "id": "7a7a6074-8d6b-441e-a0b9-373f935ceb0e",
   "metadata": {},
   "source": [
    "## Use model "
   ]
  },
  {
   "cell_type": "code",
   "execution_count": 192,
   "id": "09869081-b0f1-4de8-90a5-a61b976ecd90",
   "metadata": {
    "tags": []
   },
   "outputs": [],
   "source": [
    "X_testing = testing[['Domestic_Short', 'Domestic_Long', 'International_1_Short', 'International_1_Long', \n",
    "                    'International_2_Short', 'International_2_Long', 'Nationals_Short', 'Nationals_Long']]"
   ]
  },
  {
   "cell_type": "code",
   "execution_count": 193,
   "id": "d70edd76-92c9-4d1d-bc92-fd71e12866ee",
   "metadata": {
    "tags": []
   },
   "outputs": [
    {
     "name": "stderr",
     "output_type": "stream",
     "text": [
      "/Users/cindyblumer/anaconda3/lib/python3.11/site-packages/sklearn/base.py:457: UserWarning: X has feature names, but LinearRegression was fitted without feature names\n",
      "  warnings.warn(\n"
     ]
    }
   ],
   "source": [
    "Worlds_Predictions = scores_predictive_model.predict(X_testing)"
   ]
  },
  {
   "cell_type": "code",
   "execution_count": 194,
   "id": "120a1a47-9f14-4b05-b71b-8d32efd2cc88",
   "metadata": {
    "tags": []
   },
   "outputs": [
    {
     "name": "stderr",
     "output_type": "stream",
     "text": [
      "/var/folders/2b/78jxkvt10c56stg_645qrf900000gn/T/ipykernel_95704/952124642.py:1: SettingWithCopyWarning: \n",
      "A value is trying to be set on a copy of a slice from a DataFrame.\n",
      "Try using .loc[row_indexer,col_indexer] = value instead\n",
      "\n",
      "See the caveats in the documentation: https://pandas.pydata.org/pandas-docs/stable/user_guide/indexing.html#returning-a-view-versus-a-copy\n",
      "  testing['Predicted_Worlds_Short'] = Worlds_Predictions[:, 0]\n",
      "/var/folders/2b/78jxkvt10c56stg_645qrf900000gn/T/ipykernel_95704/952124642.py:2: SettingWithCopyWarning: \n",
      "A value is trying to be set on a copy of a slice from a DataFrame.\n",
      "Try using .loc[row_indexer,col_indexer] = value instead\n",
      "\n",
      "See the caveats in the documentation: https://pandas.pydata.org/pandas-docs/stable/user_guide/indexing.html#returning-a-view-versus-a-copy\n",
      "  testing['Predicted_Worlds_Long'] = Worlds_Predictions[:, 1]\n"
     ]
    }
   ],
   "source": [
    "testing['Predicted_Worlds_Short'] = Worlds_Predictions[:, 0]\n",
    "testing['Predicted_Worlds_Long'] = Worlds_Predictions[:, 1]"
   ]
  },
  {
   "cell_type": "code",
   "execution_count": 195,
   "id": "871e4a30-6c1f-4074-b5f5-0d6b7895ca10",
   "metadata": {
    "tags": []
   },
   "outputs": [
    {
     "name": "stdout",
     "output_type": "stream",
     "text": [
      "Predictions for 2024/25 World Championship Short and Long Program Scores:\n",
      "Team Name and Year: Skyliners_2024/25, Predicted Short Program Score: 306.73, Predicted Long Program Score: 2521.73\n",
      "Team Name and Year: Haydenettes_2024/25, Predicted Short Program Score: 389.90, Predicted Long Program Score: 2796.09\n",
      "Team Name and Year: Rockettes_2024/25, Predicted Short Program Score: 410.09, Predicted Long Program Score: 2859.79\n",
      "Team Name and Year: Team_Unique_2024/25, Predicted Short Program Score: 405.42, Predicted Long Program Score: 2973.83\n",
      "Team Name and Year: Les_Supremes_2024/25, Predicted Short Program Score: 409.12, Predicted Long Program Score: 2852.32\n",
      "Team Name and Year: Nova_2024/25, Predicted Short Program Score: 367.03, Predicted Long Program Score: 2763.25\n"
     ]
    }
   ],
   "source": [
    "print(\"Predictions for 2024/25 World Championship Short and Long Program Scores:\")\n",
    "for index, row in testing.iterrows():\n",
    "    print(f\"Team Name and Year: {row['Team_Name_Year']}, Predicted Short Program Score: {row['Predicted_Worlds_Short']:.2f}, Predicted Long Program Score: {row['Predicted_Worlds_Long']:.2f}\")"
   ]
  },
  {
   "cell_type": "code",
   "execution_count": null,
   "id": "220cb285-31eb-4de0-a0eb-2902a682cc1f",
   "metadata": {},
   "outputs": [],
   "source": []
  }
 ],
 "metadata": {
  "kernelspec": {
   "display_name": "Python 3 (ipykernel)",
   "language": "python",
   "name": "python3"
  },
  "language_info": {
   "codemirror_mode": {
    "name": "ipython",
    "version": 3
   },
   "file_extension": ".py",
   "mimetype": "text/x-python",
   "name": "python",
   "nbconvert_exporter": "python",
   "pygments_lexer": "ipython3",
   "version": "3.11.10"
  }
 },
 "nbformat": 4,
 "nbformat_minor": 5
}
